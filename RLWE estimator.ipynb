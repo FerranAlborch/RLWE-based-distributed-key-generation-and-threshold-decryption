{
 "cells": [
  {
   "cell_type": "code",
   "execution_count": 1,
   "metadata": {},
   "outputs": [],
   "source": [
    "from sage.functions.log import logb\n",
    "import miller_rabin\n",
    "load(\"estimator.py\")"
   ]
  },
  {
   "cell_type": "code",
   "execution_count": 24,
   "metadata": {},
   "outputs": [],
   "source": [
    "# Set n=2048 and q next prime after 2^100\n",
    "n = 2048\n",
    "q = 1267650600228229401496703205653\n",
    "# Compute both alphas for the analysis\n",
    "alpha1= 1/(math.sqrt(4*n*(2*n+1)*q*math.sqrt(q)))\n",
    "alpha2= alpha1/sqrt(3)"
   ]
  },
  {
   "cell_type": "code",
   "execution_count": 25,
   "metadata": {},
   "outputs": [
    {
     "name": "stderr",
     "output_type": "stream",
     "text": [
      "usvp: rop: â‰ˆ2^104.0,  red: â‰ˆ2^104.0,  Î´_0: 1.006633,  Î²:  183,  d: 4375,  m: â‰ˆ2^11.2\n",
      " dec: rop: â‰ˆ2^107.5,  m: â‰ˆ2^11.4,  red: â‰ˆ2^107.5,  Î´_0: 1.006505,  Î²:  189,  d: 4679,  babai: â‰ˆ2^93.6,  babai_op: â‰ˆ2^108.7,  repeat:        1,  Îµ:        1\n",
      "dual: rop: â‰ˆ2^107.5,  m: â‰ˆ2^11.4,  red: â‰ˆ2^107.5,  Î´_0: 1.006512,  Î²:  189,  repeat: â‰ˆ2^43.6,  d: 4677,  c:        1\n"
     ]
    },
    {
     "data": {
      "text/plain": [
       "OrderedDict([('usvp',          rop:  2^104.0\n",
       "         red:  2^104.0\n",
       "     delta_0: 1.006633\n",
       "        beta:      183\n",
       "           d:   2^12.1\n",
       "           m:   2^11.2), ('dec',          rop:  2^107.5\n",
       "           m:   2^11.4\n",
       "         red:  2^107.5\n",
       "     delta_0: 1.006505\n",
       "        beta:      189\n",
       "           d:   2^12.2\n",
       "       babai:   2^93.6\n",
       "    babai_op:  2^108.7\n",
       "      repeat:        1\n",
       "     epsilon:        1), ('dual',          rop:  2^107.5\n",
       "           m:   2^11.4\n",
       "         red:  2^107.5\n",
       "     delta_0: 1.006512\n",
       "        beta:      189\n",
       "      repeat:   2^43.6\n",
       "           d:   2^12.2\n",
       "           c:        1)])"
      ]
     },
     "execution_count": 25,
     "metadata": {},
     "output_type": "execute_result"
    }
   ],
   "source": [
    "# Difficulty for tau/u=1\n",
    "estimate_lwe(n,alpha1,q)"
   ]
  },
  {
   "cell_type": "code",
   "execution_count": 26,
   "metadata": {},
   "outputs": [
    {
     "name": "stderr",
     "output_type": "stream",
     "text": [
      "usvp: rop: â‰ˆ2^100.6,  red: â‰ˆ2^100.6,  Î´_0: 1.006767,  Î²:  177,  d: 4471,  m: â‰ˆ2^11.2\n",
      " dec: rop: â‰ˆ2^104.6,  m: â‰ˆ2^11.3,  red: â‰ˆ2^104.6,  Î´_0: 1.006624,  Î²:  184,  d: 4635,  babai: â‰ˆ2^92.6,  babai_op: â‰ˆ2^107.7,  repeat:        1,  Îµ:        1\n",
      "dual: rop: â‰ˆ2^104.6,  m: â‰ˆ2^11.3,  red: â‰ˆ2^104.6,  Î´_0: 1.006629,  Î²:  184,  repeat: â‰ˆ2^43.3,  d: 4635,  c:        1\n"
     ]
    },
    {
     "data": {
      "text/plain": [
       "OrderedDict([('usvp',          rop:  2^100.6\n",
       "         red:  2^100.6\n",
       "     delta_0: 1.006767\n",
       "        beta:      177\n",
       "           d:   2^12.1\n",
       "           m:   2^11.2), ('dec',          rop:  2^104.6\n",
       "           m:   2^11.3\n",
       "         red:  2^104.6\n",
       "     delta_0: 1.006624\n",
       "        beta:      184\n",
       "           d:   2^12.2\n",
       "       babai:   2^92.6\n",
       "    babai_op:  2^107.7\n",
       "      repeat:        1\n",
       "     epsilon:        1), ('dual',          rop:  2^104.6\n",
       "           m:   2^11.3\n",
       "         red:  2^104.6\n",
       "     delta_0: 1.006629\n",
       "        beta:      184\n",
       "      repeat:   2^43.3\n",
       "           d:   2^12.2\n",
       "           c:        1)])"
      ]
     },
     "execution_count": 26,
     "metadata": {},
     "output_type": "execute_result"
    }
   ],
   "source": [
    "# Difficulty for tau/u=1/3\n",
    "estimate_lwe(n,alpha2,q)"
   ]
  },
  {
   "cell_type": "code",
   "execution_count": null,
   "metadata": {},
   "outputs": [],
   "source": []
  }
 ],
 "metadata": {
  "kernelspec": {
   "display_name": "SageMath 9.1",
   "language": "sage",
   "name": "sagemath"
  },
  "language_info": {
   "codemirror_mode": {
    "name": "ipython",
    "version": 3
   },
   "file_extension": ".py",
   "mimetype": "text/x-python",
   "name": "python",
   "nbconvert_exporter": "python",
   "pygments_lexer": "ipython3",
   "version": "3.7.3"
  }
 },
 "nbformat": 4,
 "nbformat_minor": 2
}
